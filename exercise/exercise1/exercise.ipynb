{
 "cells": [
  {
   "cell_type": "code",
   "execution_count": null,
   "metadata": {},
   "outputs": [],
   "source": [
    "import numpy as np\n",
    "import matplotlib.pyplot as plt\n",
    "from mpl_toolkits.mplot3d import Axes3D\n",
    "import time\n",
    "\n",
    "%matplotlib inline\n",
    "\n",
    "def func(x):\n",
    "    return 100*np.square(np.square(x[0])-x[1])+np.square(x[0]-1) #calculate the z\n",
    "\n",
    "def dfunc(x):\n",
    "    df1 = 400*x[0]*(np.square(x[0])-x[1])+2*(x[0]-1) #respective to x[0]\n",
    "    df2 = -200*(np.square(x[0])-x[1])  #respective to x[1]\n",
    "    return np.array([df1,df2])\n",
    "\n",
    "def grad(x, max_int):\n",
    "    start = time.clock()\n",
    "    miter = 1\n",
    "    step = .0001/miter\n",
    "    vals = []\n",
    "    objectfs = []\n",
    "    while miter <= max_int:\n",
    "        vals.append(x)\n",
    "        objectfs.append(func(x))\n",
    "        print(x,func(x),miter)\n",
    "        temp = x-step*dfunc(x)  # \n",
    "        if np.abs(func(temp)-func(x))>0.01: #stop here if the comparison is too small this value is up to us\n",
    "            x = temp\n",
    "        else:\n",
    "            break        \n",
    "        miter +=1\n",
    "    end = time.clock()\n",
    "    print (\"%.2gs\" % (end-start))\n",
    "    return vals, objectfs, miter\n",
    "\n",
    "\n",
    "start = [5,5]\n",
    "# start = [15,15]\n",
    "val, objectf, iters = grad(start,50)\n",
    "start_time=time.time()\n",
    "\n",
    "x = np.array([i[0] for i in val])\n",
    "y = np.array([i[1] for i in val])\n",
    "z = np.array(objectf)\n",
    "fig = plt.figure()\n",
    "ax = fig.gca(projection='3d')\n",
    "ax.scatter(x,y,z, label='gradient descent method')\n",
    "ax.legend()"
   ]
  },
  {
   "cell_type": "code",
   "execution_count": null,
   "metadata": {},
   "outputs": [],
   "source": [
    "import numpy as np\n",
    "import matplotlib.pyplot as plt\n",
    "#from numpy.linalg import inv\n",
    "from mpl_toolkits.mplot3d import Axes3D\n",
    "import time\n",
    "\n",
    "def func(x):\n",
    "    return 100*np.square(np.square(x[0])-x[1])+np.square(x[0]-1)\n",
    "\n",
    "def dfunc(x):\n",
    "    df1 = 400*x[0]*(np.square(x[0])-x[1])+2*(x[0]-1)\n",
    "    df2 = -200*(np.square(x[0])-x[1])\n",
    "    return np.array([df1,df2])\n",
    "\n",
    "def invhess(x):\n",
    "    df11 = 1200*np.square(x[0])-400*x[1]+2\n",
    "    df12 = -400*x[0]\n",
    "    df21 = -400*x[0]\n",
    "    df22 = 200\n",
    "    hess = np.array([[df11,df12],[df21,df22]])\n",
    "    return np.linalg.inv(hess)\n",
    "\n",
    "def grad(x, max_int):\n",
    "    start = time.clock()\n",
    "    miter = 1\n",
    "    step = .5\n",
    "    vals = []\n",
    "    objectfs = []\n",
    "    while miter <= max_int:\n",
    "        vals.append(x)\n",
    "        objectfs.append(func(x))\n",
    "        print(x,func(x),miter)\n",
    "#        temp = x-step*dfunc(x)\n",
    "        temp = x-step*(invhess(x).dot(dfunc(x)))\n",
    "        if np.abs(func(temp)-func(x))>0.01: #stop here if the comparison is too small this value is up to us\n",
    "            x = temp\n",
    "        else:\n",
    "            break\n",
    "        miter +=1\n",
    "    end = time.clock()\n",
    "    print (\"%.2gs\" % (end-start))\n",
    "    return vals, objectfs, miter\n",
    "\n",
    "\n",
    "\n",
    "#start = [5,5]\n",
    "start = [15,15]\n",
    "val, objectf, iters = grad(start,100)\n",
    "\n",
    "x = np.array([i[0] for i in val])\n",
    "y = np.array([i[1] for i in val])\n",
    "z = np.array(objectf)\n",
    "fig = plt.figure()\n",
    "ax = fig.gca(projection='3d')\n",
    "ax.scatter(x,y,z, label='newton method')\n",
    "ax.legend()"
   ]
  },
  {
   "cell_type": "markdown",
   "metadata": {},
   "source": [
    "# Exercises"
   ]
  },
  {
   "cell_type": "markdown",
   "metadata": {},
   "source": [
    "1. What is the role of second derivative function in Gradient Descent method?"
   ]
  },
  {
   "cell_type": "markdown",
   "metadata": {},
   "source": [
    "Second derivatives are used to understand the rate of change of derivatives."
   ]
  },
  {
   "cell_type": "markdown",
   "metadata": {},
   "source": []
  }
 ],
 "metadata": {
  "kernelspec": {
   "display_name": "Python 3",
   "language": "python",
   "name": "python3"
  },
  "language_info": {
   "codemirror_mode": {
    "name": "ipython",
    "version": 3
   },
   "file_extension": ".py",
   "mimetype": "text/x-python",
   "name": "python",
   "nbconvert_exporter": "python",
   "pygments_lexer": "ipython3",
   "version": "3.6.4"
  }
 },
 "nbformat": 4,
 "nbformat_minor": 2
}
