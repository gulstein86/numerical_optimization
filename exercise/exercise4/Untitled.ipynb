{
 "cells": [
  {
   "cell_type": "code",
   "execution_count": 1,
   "metadata": {
    "ExecuteTime": {
     "end_time": "2019-04-05T08:31:06.236988Z",
     "start_time": "2019-04-05T08:31:04.183202Z"
    }
   },
   "outputs": [
    {
     "name": "stdout",
     "output_type": "stream",
     "text": [
      "Result in 63 iterations:\n",
      "[0.00010002] -> -0.000100\n"
     ]
    }
   ],
   "source": [
    "import numpy as np\n",
    "import matplotlib.pyplot as plt\n",
    "from linalg_utils import *\n",
    "import trust_region as tr\n",
    "import step_finders as sf\n",
    "\n",
    "f1 = lambda x: 100 * (x[1] - x[0]**2)**2 + (1 - x[0])**2\n",
    "g1 = lambda x: np.array([-400*(x[1] - x[0]**2)*x[0] - 2*(1-x[0]), 200*(x[1] - x[0]**2)])\n",
    "h1 = lambda x: np.array([\n",
    "    [-400*(x[1] - 3*x[0]**2) + 2, -400*x[0]],\n",
    "    [-400*x[0], 200]]\n",
    ")\n",
    "x1s = [np.array([2, 1]), np.array([0, 1]), np.array([-1, 1])]\n",
    "\n",
    "a2 = lambda x: np.exp(-1. / (100*(x[0]-1))**2)\n",
    "f2 = lambda x: x[0]**2 + a2(x) - 1\n",
    "g2 = lambda x: np.array([2*x[0] + a2(x)*200*(1./(100*(x[0]-1))**3)])\n",
    "h2 = lambda x: np.array([2 + a2(x)*((200*(1./(100*(x[0]-1))**3))**2 + 600*(1./(100*(x[0]-1))**4))])\n",
    "x2s = [np.array([-1]), np.array([-2])]\n",
    "\n",
    "x, fx, iterations = tr.trust_region(f2, g2, h2, x2s[0], .1, 1, .15, sf.cauchy_point_step_finder)\n",
    "print('Result in %d iterations:' % iterations)\n",
    "print('%s -> %f' % (x, fx))"
   ]
  }
 ],
 "metadata": {
  "kernelspec": {
   "display_name": "Python 3",
   "language": "python",
   "name": "python3"
  },
  "language_info": {
   "codemirror_mode": {
    "name": "ipython",
    "version": 3
   },
   "file_extension": ".py",
   "mimetype": "text/x-python",
   "name": "python",
   "nbconvert_exporter": "python",
   "pygments_lexer": "ipython3",
   "version": "3.5.5"
  },
  "toc": {
   "base_numbering": 1,
   "nav_menu": {},
   "number_sections": true,
   "sideBar": false,
   "skip_h1_title": false,
   "title_cell": "Table of Contents",
   "title_sidebar": "Contents",
   "toc_cell": false,
   "toc_position": {},
   "toc_section_display": true,
   "toc_window_display": false
  },
  "varInspector": {
   "cols": {
    "lenName": 16,
    "lenType": 16,
    "lenVar": 40
   },
   "kernels_config": {
    "python": {
     "delete_cmd_postfix": "",
     "delete_cmd_prefix": "del ",
     "library": "var_list.py",
     "varRefreshCmd": "print(var_dic_list())"
    },
    "r": {
     "delete_cmd_postfix": ") ",
     "delete_cmd_prefix": "rm(",
     "library": "var_list.r",
     "varRefreshCmd": "cat(var_dic_list()) "
    }
   },
   "types_to_exclude": [
    "module",
    "function",
    "builtin_function_or_method",
    "instance",
    "_Feature"
   ],
   "window_display": false
  }
 },
 "nbformat": 4,
 "nbformat_minor": 2
}
