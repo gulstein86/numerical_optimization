{
 "cells": [
  {
   "cell_type": "markdown",
   "metadata": {
    "colab_type": "text",
    "id": "aPwaJU-igz7H"
   },
   "source": [
    "## **Fantasy Premier League Team Predictor**"
   ]
  },
  {
   "cell_type": "markdown",
   "metadata": {
    "colab_type": "text",
    "id": "RnvznCkSge3V"
   },
   "source": [
    "### **Import Required Modules**"
   ]
  },
  {
   "cell_type": "code",
   "execution_count": 1,
   "metadata": {
    "ExecuteTime": {
     "end_time": "2019-05-31T03:34:38.503677Z",
     "start_time": "2019-05-31T03:34:28.343077Z"
    },
    "colab": {},
    "colab_type": "code",
    "id": "uC1H0yIdf9Z5"
   },
   "outputs": [],
   "source": [
    "import pandas as pd\n",
    "import numpy as np\n",
    "from pulp import *\n",
    "import re\n",
    "import matplotlib\n",
    "import matplotlib.pyplot as plt"
   ]
  },
  {
   "cell_type": "markdown",
   "metadata": {
    "colab_type": "text",
    "id": "vJArGW_lf9aF"
   },
   "source": [
    "### Import List of Players"
   ]
  },
  {
   "cell_type": "code",
   "execution_count": 2,
   "metadata": {
    "ExecuteTime": {
     "end_time": "2019-05-31T03:35:12.327077Z",
     "start_time": "2019-05-31T03:35:12.028277Z"
    },
    "colab": {},
    "colab_type": "code",
    "id": "e0jQifW6f9aH"
   },
   "outputs": [],
   "source": [
    "df = pd.read_csv(\"FPL_2018_19_Wk0.csv\")"
   ]
  },
  {
   "cell_type": "markdown",
   "metadata": {
    "colab_type": "text",
    "id": "wwwmhln_hI7p"
   },
   "source": [
    "**Understand our data before start building model**"
   ]
  },
  {
   "cell_type": "code",
   "execution_count": 3,
   "metadata": {
    "ExecuteTime": {
     "end_time": "2019-05-31T03:35:16.972477Z",
     "start_time": "2019-05-31T03:35:16.885477Z"
    },
    "colab": {},
    "colab_type": "code",
    "id": "iXbDnEfpg_ZX"
   },
   "outputs": [
    {
     "data": {
      "text/html": [
       "<div>\n",
       "<style scoped>\n",
       "    .dataframe tbody tr th:only-of-type {\n",
       "        vertical-align: middle;\n",
       "    }\n",
       "\n",
       "    .dataframe tbody tr th {\n",
       "        vertical-align: top;\n",
       "    }\n",
       "\n",
       "    .dataframe thead th {\n",
       "        text-align: right;\n",
       "    }\n",
       "</style>\n",
       "<table border=\"1\" class=\"dataframe\">\n",
       "  <thead>\n",
       "    <tr style=\"text-align: right;\">\n",
       "      <th></th>\n",
       "      <th>Name</th>\n",
       "      <th>Team</th>\n",
       "      <th>Position</th>\n",
       "      <th>Cost</th>\n",
       "      <th>Creativity</th>\n",
       "      <th>Influence</th>\n",
       "      <th>Threat</th>\n",
       "      <th>ICT</th>\n",
       "      <th>Goals_conceded</th>\n",
       "      <th>Goals_scored</th>\n",
       "      <th>...</th>\n",
       "      <th>Own_goals</th>\n",
       "      <th>Penalties_missed</th>\n",
       "      <th>Penalties_saved</th>\n",
       "      <th>Saves</th>\n",
       "      <th>Yellow_cards</th>\n",
       "      <th>Red_cards</th>\n",
       "      <th>TSB</th>\n",
       "      <th>Minutes</th>\n",
       "      <th>Bonus</th>\n",
       "      <th>Points</th>\n",
       "    </tr>\n",
       "  </thead>\n",
       "  <tbody>\n",
       "    <tr>\n",
       "      <th>0</th>\n",
       "      <td>Adam Smith</td>\n",
       "      <td>BOU</td>\n",
       "      <td>DEF</td>\n",
       "      <td>45</td>\n",
       "      <td>345.5</td>\n",
       "      <td>455.0</td>\n",
       "      <td>144.0</td>\n",
       "      <td>94.5</td>\n",
       "      <td>38</td>\n",
       "      <td>1</td>\n",
       "      <td>...</td>\n",
       "      <td>0</td>\n",
       "      <td>0</td>\n",
       "      <td>0</td>\n",
       "      <td>0</td>\n",
       "      <td>6</td>\n",
       "      <td>0</td>\n",
       "      <td>0.3</td>\n",
       "      <td>2067</td>\n",
       "      <td>3</td>\n",
       "      <td>56</td>\n",
       "    </tr>\n",
       "    <tr>\n",
       "      <th>1</th>\n",
       "      <td>Adrian</td>\n",
       "      <td>WHU</td>\n",
       "      <td>GKP</td>\n",
       "      <td>45</td>\n",
       "      <td>0.0</td>\n",
       "      <td>470.4</td>\n",
       "      <td>0.0</td>\n",
       "      <td>47.0</td>\n",
       "      <td>29</td>\n",
       "      <td>0</td>\n",
       "      <td>...</td>\n",
       "      <td>0</td>\n",
       "      <td>0</td>\n",
       "      <td>0</td>\n",
       "      <td>69</td>\n",
       "      <td>2</td>\n",
       "      <td>0</td>\n",
       "      <td>0.6</td>\n",
       "      <td>1710</td>\n",
       "      <td>5</td>\n",
       "      <td>72</td>\n",
       "    </tr>\n",
       "    <tr>\n",
       "      <th>2</th>\n",
       "      <td>Aguero</td>\n",
       "      <td>MCI</td>\n",
       "      <td>FWD</td>\n",
       "      <td>110</td>\n",
       "      <td>570.8</td>\n",
       "      <td>966.4</td>\n",
       "      <td>1484.0</td>\n",
       "      <td>302.5</td>\n",
       "      <td>12</td>\n",
       "      <td>21</td>\n",
       "      <td>...</td>\n",
       "      <td>0</td>\n",
       "      <td>0</td>\n",
       "      <td>0</td>\n",
       "      <td>0</td>\n",
       "      <td>2</td>\n",
       "      <td>0</td>\n",
       "      <td>12.6</td>\n",
       "      <td>1960</td>\n",
       "      <td>22</td>\n",
       "      <td>169</td>\n",
       "    </tr>\n",
       "    <tr>\n",
       "      <th>3</th>\n",
       "      <td>Ake</td>\n",
       "      <td>BOU</td>\n",
       "      <td>DEF</td>\n",
       "      <td>50</td>\n",
       "      <td>115.1</td>\n",
       "      <td>932.4</td>\n",
       "      <td>287.0</td>\n",
       "      <td>133.5</td>\n",
       "      <td>59</td>\n",
       "      <td>2</td>\n",
       "      <td>...</td>\n",
       "      <td>0</td>\n",
       "      <td>0</td>\n",
       "      <td>0</td>\n",
       "      <td>0</td>\n",
       "      <td>5</td>\n",
       "      <td>0</td>\n",
       "      <td>5.7</td>\n",
       "      <td>3352</td>\n",
       "      <td>8</td>\n",
       "      <td>102</td>\n",
       "    </tr>\n",
       "    <tr>\n",
       "      <th>4</th>\n",
       "      <td>Albrighton</td>\n",
       "      <td>LEI</td>\n",
       "      <td>MID</td>\n",
       "      <td>55</td>\n",
       "      <td>718.3</td>\n",
       "      <td>580.0</td>\n",
       "      <td>300.0</td>\n",
       "      <td>160.2</td>\n",
       "      <td>42</td>\n",
       "      <td>2</td>\n",
       "      <td>...</td>\n",
       "      <td>0</td>\n",
       "      <td>0</td>\n",
       "      <td>0</td>\n",
       "      <td>0</td>\n",
       "      <td>5</td>\n",
       "      <td>1</td>\n",
       "      <td>1.1</td>\n",
       "      <td>2533</td>\n",
       "      <td>12</td>\n",
       "      <td>107</td>\n",
       "    </tr>\n",
       "  </tbody>\n",
       "</table>\n",
       "<p>5 rows × 21 columns</p>\n",
       "</div>"
      ],
      "text/plain": [
       "         Name Team Position  Cost  Creativity  Influence  Threat    ICT  \\\n",
       "0  Adam Smith  BOU      DEF    45       345.5      455.0   144.0   94.5   \n",
       "1      Adrian  WHU      GKP    45         0.0      470.4     0.0   47.0   \n",
       "2      Aguero  MCI      FWD   110       570.8      966.4  1484.0  302.5   \n",
       "3         Ake  BOU      DEF    50       115.1      932.4   287.0  133.5   \n",
       "4  Albrighton  LEI      MID    55       718.3      580.0   300.0  160.2   \n",
       "\n",
       "   Goals_conceded  Goals_scored   ...    Own_goals  Penalties_missed  \\\n",
       "0              38             1   ...            0                 0   \n",
       "1              29             0   ...            0                 0   \n",
       "2              12            21   ...            0                 0   \n",
       "3              59             2   ...            0                 0   \n",
       "4              42             2   ...            0                 0   \n",
       "\n",
       "   Penalties_saved  Saves  Yellow_cards  Red_cards   TSB  Minutes  Bonus  \\\n",
       "0                0      0             6          0   0.3     2067      3   \n",
       "1                0     69             2          0   0.6     1710      5   \n",
       "2                0      0             2          0  12.6     1960     22   \n",
       "3                0      0             5          0   5.7     3352      8   \n",
       "4                0      0             5          1   1.1     2533     12   \n",
       "\n",
       "   Points  \n",
       "0      56  \n",
       "1      72  \n",
       "2     169  \n",
       "3     102  \n",
       "4     107  \n",
       "\n",
       "[5 rows x 21 columns]"
      ]
     },
     "execution_count": 3,
     "metadata": {},
     "output_type": "execute_result"
    }
   ],
   "source": [
    "# Quick view of dataset\n",
    "df.head()"
   ]
  },
  {
   "cell_type": "code",
   "execution_count": 4,
   "metadata": {
    "ExecuteTime": {
     "end_time": "2019-05-31T03:35:24.073277Z",
     "start_time": "2019-05-31T03:35:24.027277Z"
    },
    "colab": {},
    "colab_type": "code",
    "id": "DjrpLSX8f9aT"
   },
   "outputs": [
    {
     "data": {
      "text/html": [
       "<div>\n",
       "<style scoped>\n",
       "    .dataframe tbody tr th:only-of-type {\n",
       "        vertical-align: middle;\n",
       "    }\n",
       "\n",
       "    .dataframe tbody tr th {\n",
       "        vertical-align: top;\n",
       "    }\n",
       "\n",
       "    .dataframe thead th {\n",
       "        text-align: right;\n",
       "    }\n",
       "</style>\n",
       "<table border=\"1\" class=\"dataframe\">\n",
       "  <thead>\n",
       "    <tr style=\"text-align: right;\">\n",
       "      <th></th>\n",
       "      <th>Influence</th>\n",
       "      <th>Threat</th>\n",
       "      <th>ICT</th>\n",
       "      <th>Goals_conceded</th>\n",
       "      <th>Goals_scored</th>\n",
       "      <th>Assists</th>\n",
       "      <th>Own_goals</th>\n",
       "      <th>Penalties_missed</th>\n",
       "      <th>Penalties_saved</th>\n",
       "      <th>Saves</th>\n",
       "      <th>Yellow_cards</th>\n",
       "      <th>Red_cards</th>\n",
       "      <th>TSB</th>\n",
       "      <th>Minutes</th>\n",
       "      <th>Bonus</th>\n",
       "      <th>Points</th>\n",
       "    </tr>\n",
       "  </thead>\n",
       "  <tbody>\n",
       "    <tr>\n",
       "      <th>Influence</th>\n",
       "      <td>1.000000</td>\n",
       "      <td>0.615033</td>\n",
       "      <td>0.853733</td>\n",
       "      <td>0.819560</td>\n",
       "      <td>0.562604</td>\n",
       "      <td>0.582243</td>\n",
       "      <td>0.203212</td>\n",
       "      <td>0.199690</td>\n",
       "      <td>0.219277</td>\n",
       "      <td>0.275144</td>\n",
       "      <td>0.591854</td>\n",
       "      <td>0.148540</td>\n",
       "      <td>0.530426</td>\n",
       "      <td>0.932931</td>\n",
       "      <td>0.801257</td>\n",
       "      <td>0.935360</td>\n",
       "    </tr>\n",
       "    <tr>\n",
       "      <th>Threat</th>\n",
       "      <td>0.615033</td>\n",
       "      <td>1.000000</td>\n",
       "      <td>0.891189</td>\n",
       "      <td>0.391405</td>\n",
       "      <td>0.921886</td>\n",
       "      <td>0.719974</td>\n",
       "      <td>-0.016251</td>\n",
       "      <td>0.388562</td>\n",
       "      <td>-0.108708</td>\n",
       "      <td>-0.146953</td>\n",
       "      <td>0.340849</td>\n",
       "      <td>0.077265</td>\n",
       "      <td>0.481659</td>\n",
       "      <td>0.500678</td>\n",
       "      <td>0.683407</td>\n",
       "      <td>0.731102</td>\n",
       "    </tr>\n",
       "    <tr>\n",
       "      <th>ICT</th>\n",
       "      <td>0.853733</td>\n",
       "      <td>0.891189</td>\n",
       "      <td>1.000000</td>\n",
       "      <td>0.639134</td>\n",
       "      <td>0.798181</td>\n",
       "      <td>0.818411</td>\n",
       "      <td>0.062853</td>\n",
       "      <td>0.303271</td>\n",
       "      <td>-0.002292</td>\n",
       "      <td>-0.011208</td>\n",
       "      <td>0.499486</td>\n",
       "      <td>0.133306</td>\n",
       "      <td>0.537459</td>\n",
       "      <td>0.767663</td>\n",
       "      <td>0.804940</td>\n",
       "      <td>0.906861</td>\n",
       "    </tr>\n",
       "    <tr>\n",
       "      <th>Goals_conceded</th>\n",
       "      <td>0.819560</td>\n",
       "      <td>0.391405</td>\n",
       "      <td>0.639134</td>\n",
       "      <td>1.000000</td>\n",
       "      <td>0.280112</td>\n",
       "      <td>0.381055</td>\n",
       "      <td>0.189435</td>\n",
       "      <td>0.146886</td>\n",
       "      <td>0.221756</td>\n",
       "      <td>0.283956</td>\n",
       "      <td>0.641296</td>\n",
       "      <td>0.168479</td>\n",
       "      <td>0.253414</td>\n",
       "      <td>0.918785</td>\n",
       "      <td>0.529923</td>\n",
       "      <td>0.727945</td>\n",
       "    </tr>\n",
       "    <tr>\n",
       "      <th>Goals_scored</th>\n",
       "      <td>0.562604</td>\n",
       "      <td>0.921886</td>\n",
       "      <td>0.798181</td>\n",
       "      <td>0.280112</td>\n",
       "      <td>1.000000</td>\n",
       "      <td>0.606734</td>\n",
       "      <td>-0.037963</td>\n",
       "      <td>0.451427</td>\n",
       "      <td>-0.079517</td>\n",
       "      <td>-0.107519</td>\n",
       "      <td>0.243355</td>\n",
       "      <td>0.027032</td>\n",
       "      <td>0.513850</td>\n",
       "      <td>0.388958</td>\n",
       "      <td>0.731513</td>\n",
       "      <td>0.682152</td>\n",
       "    </tr>\n",
       "    <tr>\n",
       "      <th>Assists</th>\n",
       "      <td>0.582243</td>\n",
       "      <td>0.719974</td>\n",
       "      <td>0.818411</td>\n",
       "      <td>0.381055</td>\n",
       "      <td>0.606734</td>\n",
       "      <td>1.000000</td>\n",
       "      <td>-0.020390</td>\n",
       "      <td>0.182238</td>\n",
       "      <td>-0.091161</td>\n",
       "      <td>-0.126850</td>\n",
       "      <td>0.295796</td>\n",
       "      <td>0.124612</td>\n",
       "      <td>0.425800</td>\n",
       "      <td>0.493862</td>\n",
       "      <td>0.602426</td>\n",
       "      <td>0.691898</td>\n",
       "    </tr>\n",
       "    <tr>\n",
       "      <th>Own_goals</th>\n",
       "      <td>0.203212</td>\n",
       "      <td>-0.016251</td>\n",
       "      <td>0.062853</td>\n",
       "      <td>0.189435</td>\n",
       "      <td>-0.037963</td>\n",
       "      <td>-0.020390</td>\n",
       "      <td>1.000000</td>\n",
       "      <td>-0.032142</td>\n",
       "      <td>0.087850</td>\n",
       "      <td>0.056229</td>\n",
       "      <td>0.146970</td>\n",
       "      <td>0.004709</td>\n",
       "      <td>0.015544</td>\n",
       "      <td>0.203181</td>\n",
       "      <td>0.127151</td>\n",
       "      <td>0.127558</td>\n",
       "    </tr>\n",
       "    <tr>\n",
       "      <th>Penalties_missed</th>\n",
       "      <td>0.199690</td>\n",
       "      <td>0.388562</td>\n",
       "      <td>0.303271</td>\n",
       "      <td>0.146886</td>\n",
       "      <td>0.451427</td>\n",
       "      <td>0.182238</td>\n",
       "      <td>-0.032142</td>\n",
       "      <td>1.000000</td>\n",
       "      <td>-0.027435</td>\n",
       "      <td>-0.037096</td>\n",
       "      <td>0.163158</td>\n",
       "      <td>0.055211</td>\n",
       "      <td>0.183236</td>\n",
       "      <td>0.152014</td>\n",
       "      <td>0.310170</td>\n",
       "      <td>0.242251</td>\n",
       "    </tr>\n",
       "    <tr>\n",
       "      <th>Penalties_saved</th>\n",
       "      <td>0.219277</td>\n",
       "      <td>-0.108708</td>\n",
       "      <td>-0.002292</td>\n",
       "      <td>0.221756</td>\n",
       "      <td>-0.079517</td>\n",
       "      <td>-0.091161</td>\n",
       "      <td>0.087850</td>\n",
       "      <td>-0.027435</td>\n",
       "      <td>1.000000</td>\n",
       "      <td>0.740837</td>\n",
       "      <td>-0.068201</td>\n",
       "      <td>-0.043405</td>\n",
       "      <td>0.147180</td>\n",
       "      <td>0.225176</td>\n",
       "      <td>0.164908</td>\n",
       "      <td>0.205095</td>\n",
       "    </tr>\n",
       "    <tr>\n",
       "      <th>Saves</th>\n",
       "      <td>0.275144</td>\n",
       "      <td>-0.146953</td>\n",
       "      <td>-0.011208</td>\n",
       "      <td>0.283956</td>\n",
       "      <td>-0.107519</td>\n",
       "      <td>-0.126850</td>\n",
       "      <td>0.056229</td>\n",
       "      <td>-0.037096</td>\n",
       "      <td>0.740837</td>\n",
       "      <td>1.000000</td>\n",
       "      <td>-0.088331</td>\n",
       "      <td>-0.058691</td>\n",
       "      <td>0.192678</td>\n",
       "      <td>0.291857</td>\n",
       "      <td>0.182247</td>\n",
       "      <td>0.254424</td>\n",
       "    </tr>\n",
       "    <tr>\n",
       "      <th>Yellow_cards</th>\n",
       "      <td>0.591854</td>\n",
       "      <td>0.340849</td>\n",
       "      <td>0.499486</td>\n",
       "      <td>0.641296</td>\n",
       "      <td>0.243355</td>\n",
       "      <td>0.295796</td>\n",
       "      <td>0.146970</td>\n",
       "      <td>0.163158</td>\n",
       "      <td>-0.068201</td>\n",
       "      <td>-0.088331</td>\n",
       "      <td>1.000000</td>\n",
       "      <td>0.161429</td>\n",
       "      <td>0.111426</td>\n",
       "      <td>0.653711</td>\n",
       "      <td>0.350461</td>\n",
       "      <td>0.490277</td>\n",
       "    </tr>\n",
       "    <tr>\n",
       "      <th>Red_cards</th>\n",
       "      <td>0.148540</td>\n",
       "      <td>0.077265</td>\n",
       "      <td>0.133306</td>\n",
       "      <td>0.168479</td>\n",
       "      <td>0.027032</td>\n",
       "      <td>0.124612</td>\n",
       "      <td>0.004709</td>\n",
       "      <td>0.055211</td>\n",
       "      <td>-0.043405</td>\n",
       "      <td>-0.058691</td>\n",
       "      <td>0.161429</td>\n",
       "      <td>1.000000</td>\n",
       "      <td>-0.029661</td>\n",
       "      <td>0.174666</td>\n",
       "      <td>0.041188</td>\n",
       "      <td>0.106108</td>\n",
       "    </tr>\n",
       "    <tr>\n",
       "      <th>TSB</th>\n",
       "      <td>0.530426</td>\n",
       "      <td>0.481659</td>\n",
       "      <td>0.537459</td>\n",
       "      <td>0.253414</td>\n",
       "      <td>0.513850</td>\n",
       "      <td>0.425800</td>\n",
       "      <td>0.015544</td>\n",
       "      <td>0.183236</td>\n",
       "      <td>0.147180</td>\n",
       "      <td>0.192678</td>\n",
       "      <td>0.111426</td>\n",
       "      <td>-0.029661</td>\n",
       "      <td>1.000000</td>\n",
       "      <td>0.395436</td>\n",
       "      <td>0.582190</td>\n",
       "      <td>0.575495</td>\n",
       "    </tr>\n",
       "    <tr>\n",
       "      <th>Minutes</th>\n",
       "      <td>0.932931</td>\n",
       "      <td>0.500678</td>\n",
       "      <td>0.767663</td>\n",
       "      <td>0.918785</td>\n",
       "      <td>0.388958</td>\n",
       "      <td>0.493862</td>\n",
       "      <td>0.203181</td>\n",
       "      <td>0.152014</td>\n",
       "      <td>0.225176</td>\n",
       "      <td>0.291857</td>\n",
       "      <td>0.653711</td>\n",
       "      <td>0.174666</td>\n",
       "      <td>0.395436</td>\n",
       "      <td>1.000000</td>\n",
       "      <td>0.673222</td>\n",
       "      <td>0.887980</td>\n",
       "    </tr>\n",
       "    <tr>\n",
       "      <th>Bonus</th>\n",
       "      <td>0.801257</td>\n",
       "      <td>0.683407</td>\n",
       "      <td>0.804940</td>\n",
       "      <td>0.529923</td>\n",
       "      <td>0.731513</td>\n",
       "      <td>0.602426</td>\n",
       "      <td>0.127151</td>\n",
       "      <td>0.310170</td>\n",
       "      <td>0.164908</td>\n",
       "      <td>0.182247</td>\n",
       "      <td>0.350461</td>\n",
       "      <td>0.041188</td>\n",
       "      <td>0.582190</td>\n",
       "      <td>0.673222</td>\n",
       "      <td>1.000000</td>\n",
       "      <td>0.868589</td>\n",
       "    </tr>\n",
       "    <tr>\n",
       "      <th>Points</th>\n",
       "      <td>0.935360</td>\n",
       "      <td>0.731102</td>\n",
       "      <td>0.906861</td>\n",
       "      <td>0.727945</td>\n",
       "      <td>0.682152</td>\n",
       "      <td>0.691898</td>\n",
       "      <td>0.127558</td>\n",
       "      <td>0.242251</td>\n",
       "      <td>0.205095</td>\n",
       "      <td>0.254424</td>\n",
       "      <td>0.490277</td>\n",
       "      <td>0.106108</td>\n",
       "      <td>0.575495</td>\n",
       "      <td>0.887980</td>\n",
       "      <td>0.868589</td>\n",
       "      <td>1.000000</td>\n",
       "    </tr>\n",
       "  </tbody>\n",
       "</table>\n",
       "</div>"
      ],
      "text/plain": [
       "                  Influence    Threat       ICT  Goals_conceded  Goals_scored  \\\n",
       "Influence          1.000000  0.615033  0.853733        0.819560      0.562604   \n",
       "Threat             0.615033  1.000000  0.891189        0.391405      0.921886   \n",
       "ICT                0.853733  0.891189  1.000000        0.639134      0.798181   \n",
       "Goals_conceded     0.819560  0.391405  0.639134        1.000000      0.280112   \n",
       "Goals_scored       0.562604  0.921886  0.798181        0.280112      1.000000   \n",
       "Assists            0.582243  0.719974  0.818411        0.381055      0.606734   \n",
       "Own_goals          0.203212 -0.016251  0.062853        0.189435     -0.037963   \n",
       "Penalties_missed   0.199690  0.388562  0.303271        0.146886      0.451427   \n",
       "Penalties_saved    0.219277 -0.108708 -0.002292        0.221756     -0.079517   \n",
       "Saves              0.275144 -0.146953 -0.011208        0.283956     -0.107519   \n",
       "Yellow_cards       0.591854  0.340849  0.499486        0.641296      0.243355   \n",
       "Red_cards          0.148540  0.077265  0.133306        0.168479      0.027032   \n",
       "TSB                0.530426  0.481659  0.537459        0.253414      0.513850   \n",
       "Minutes            0.932931  0.500678  0.767663        0.918785      0.388958   \n",
       "Bonus              0.801257  0.683407  0.804940        0.529923      0.731513   \n",
       "Points             0.935360  0.731102  0.906861        0.727945      0.682152   \n",
       "\n",
       "                   Assists  Own_goals  Penalties_missed  Penalties_saved  \\\n",
       "Influence         0.582243   0.203212          0.199690         0.219277   \n",
       "Threat            0.719974  -0.016251          0.388562        -0.108708   \n",
       "ICT               0.818411   0.062853          0.303271        -0.002292   \n",
       "Goals_conceded    0.381055   0.189435          0.146886         0.221756   \n",
       "Goals_scored      0.606734  -0.037963          0.451427        -0.079517   \n",
       "Assists           1.000000  -0.020390          0.182238        -0.091161   \n",
       "Own_goals        -0.020390   1.000000         -0.032142         0.087850   \n",
       "Penalties_missed  0.182238  -0.032142          1.000000        -0.027435   \n",
       "Penalties_saved  -0.091161   0.087850         -0.027435         1.000000   \n",
       "Saves            -0.126850   0.056229         -0.037096         0.740837   \n",
       "Yellow_cards      0.295796   0.146970          0.163158        -0.068201   \n",
       "Red_cards         0.124612   0.004709          0.055211        -0.043405   \n",
       "TSB               0.425800   0.015544          0.183236         0.147180   \n",
       "Minutes           0.493862   0.203181          0.152014         0.225176   \n",
       "Bonus             0.602426   0.127151          0.310170         0.164908   \n",
       "Points            0.691898   0.127558          0.242251         0.205095   \n",
       "\n",
       "                     Saves  Yellow_cards  Red_cards       TSB   Minutes  \\\n",
       "Influence         0.275144      0.591854   0.148540  0.530426  0.932931   \n",
       "Threat           -0.146953      0.340849   0.077265  0.481659  0.500678   \n",
       "ICT              -0.011208      0.499486   0.133306  0.537459  0.767663   \n",
       "Goals_conceded    0.283956      0.641296   0.168479  0.253414  0.918785   \n",
       "Goals_scored     -0.107519      0.243355   0.027032  0.513850  0.388958   \n",
       "Assists          -0.126850      0.295796   0.124612  0.425800  0.493862   \n",
       "Own_goals         0.056229      0.146970   0.004709  0.015544  0.203181   \n",
       "Penalties_missed -0.037096      0.163158   0.055211  0.183236  0.152014   \n",
       "Penalties_saved   0.740837     -0.068201  -0.043405  0.147180  0.225176   \n",
       "Saves             1.000000     -0.088331  -0.058691  0.192678  0.291857   \n",
       "Yellow_cards     -0.088331      1.000000   0.161429  0.111426  0.653711   \n",
       "Red_cards        -0.058691      0.161429   1.000000 -0.029661  0.174666   \n",
       "TSB               0.192678      0.111426  -0.029661  1.000000  0.395436   \n",
       "Minutes           0.291857      0.653711   0.174666  0.395436  1.000000   \n",
       "Bonus             0.182247      0.350461   0.041188  0.582190  0.673222   \n",
       "Points            0.254424      0.490277   0.106108  0.575495  0.887980   \n",
       "\n",
       "                     Bonus    Points  \n",
       "Influence         0.801257  0.935360  \n",
       "Threat            0.683407  0.731102  \n",
       "ICT               0.804940  0.906861  \n",
       "Goals_conceded    0.529923  0.727945  \n",
       "Goals_scored      0.731513  0.682152  \n",
       "Assists           0.602426  0.691898  \n",
       "Own_goals         0.127151  0.127558  \n",
       "Penalties_missed  0.310170  0.242251  \n",
       "Penalties_saved   0.164908  0.205095  \n",
       "Saves             0.182247  0.254424  \n",
       "Yellow_cards      0.350461  0.490277  \n",
       "Red_cards         0.041188  0.106108  \n",
       "TSB               0.582190  0.575495  \n",
       "Minutes           0.673222  0.887980  \n",
       "Bonus             1.000000  0.868589  \n",
       "Points            0.868589  1.000000  "
      ]
     },
     "execution_count": 4,
     "metadata": {},
     "output_type": "execute_result"
    }
   ],
   "source": [
    "# Check correlation between predicting factors\n",
    "cov_df = df.iloc[:,5:21]\n",
    "cov_df.corr()"
   ]
  },
  {
   "cell_type": "code",
   "execution_count": 5,
   "metadata": {
    "ExecuteTime": {
     "end_time": "2019-05-31T03:35:30.589677Z",
     "start_time": "2019-05-31T03:35:28.778477Z"
    },
    "colab": {},
    "colab_type": "code",
    "id": "ELL77QKniY1M"
   },
   "outputs": [
    {
     "data": {
      "image/png": "[encoded data removed]",
      "text/plain": [
       "<Figure size 1440x720 with 2 Axes>"
      ]
     },
     "metadata": {},
     "output_type": "display_data"
    }
   ],
   "source": [
    "# Visualize correlation between factors\n",
    "plt.figure(figsize=(20,10))\n",
    "plt.matshow(cov_df.corr(), fignum = 1)\n",
    "plt.xticks(range(len(cov_df.columns)), cov_df.columns)\n",
    "plt.yticks(range(len(cov_df.columns)), cov_df.columns)\n",
    "plt.colorbar()\n",
    "plt.show()"
   ]
  },
  {
   "cell_type": "markdown",
   "metadata": {
    "colab_type": "text",
    "id": "dVg_PC5fk15-"
   },
   "source": [
    "### Import All Required User Defined Functions"
   ]
  },
  {
   "cell_type": "code",
   "execution_count": 6,
   "metadata": {
    "ExecuteTime": {
     "end_time": "2019-05-31T03:35:32.789077Z",
     "start_time": "2019-05-31T03:35:32.788077Z"
    },
    "colab": {},
    "colab_type": "code",
    "id": "U15Si4M5f9ab"
   },
   "outputs": [],
   "source": [
    "# Create player variables x1,x2,x3....\n",
    "def player_variable(df):\n",
    "    player_variable = []\n",
    "    \n",
    "    for rownum, row in df.iterrows():\n",
    "        variable = str('x' + str(rownum))\n",
    "        variable = pulp.LpVariable(str(variable), lowBound = 0, upBound = 1, cat= 'Integer')\n",
    "        player_variable.append(variable)\n",
    "                                  \n",
    "    return player_variable\n"
   ]
  },
  {
   "cell_type": "code",
   "execution_count": 7,
   "metadata": {
    "ExecuteTime": {
     "end_time": "2019-05-31T03:35:33.792077Z",
     "start_time": "2019-05-31T03:35:33.785077Z"
    },
    "colab": {},
    "colab_type": "code",
    "id": "_RqbhZInf9af"
   },
   "outputs": [],
   "source": [
    "# Create objective function\n",
    "def objective_func(df,player_list,lp_prob):\n",
    "    tot_pt=\"\"\n",
    "    for n,row in df.iterrows():\n",
    "        for i,player in enumerate(player_list):\n",
    "            if i==n:\n",
    "                formula=row['Points']*player\n",
    "                tot_pt+=formula\n",
    "    lp_prob+=tot_pt\n",
    "    return lp_prob\n"
   ]
  },
  {
   "cell_type": "code",
   "execution_count": 8,
   "metadata": {
    "ExecuteTime": {
     "end_time": "2019-05-31T03:35:35.004477Z",
     "start_time": "2019-05-31T03:35:35.003477Z"
    },
    "colab": {},
    "colab_type": "code",
    "id": "6hrAc9Ypf9aj"
   },
   "outputs": [],
   "source": [
    "# Create cost constraint\n",
    "def cash_constraint(df,player_list,lp_prob,available_cash):\n",
    "    cost=\"\"\n",
    "    formula=\"\"\n",
    "    for n,row in df.iterrows():\n",
    "        for i,player in enumerate(player_list):\n",
    "            if i==n:\n",
    "                formula=row['Cost']*player\n",
    "                cost+=formula\n",
    "    lp_prob+=(cost<=available_cash),\"Cash_constraint\"\n",
    "    return lp_prob\n",
    "    "
   ]
  },
  {
   "cell_type": "code",
   "execution_count": 9,
   "metadata": {
    "ExecuteTime": {
     "end_time": "2019-05-31T03:35:35.828277Z",
     "start_time": "2019-05-31T03:35:35.823277Z"
    },
    "colab": {},
    "colab_type": "code",
    "id": "g0H8XsHCf9an"
   },
   "outputs": [],
   "source": [
    "# Create positions constraint\n",
    "def positions(df,player_list,lp_prob,available_player,position):\n",
    "    tot_player=\"\"\n",
    "    formula=\"\"\n",
    "    for n,row in df.iterrows():\n",
    "        for i,player in enumerate(player_list):\n",
    "            if i==n:\n",
    "                if row['Position']==position:\n",
    "                    formula=1*player\n",
    "                    tot_player+=formula\n",
    "    lp_prob+=(tot_player==available_player),position\n",
    "    return lp_prob\n"
   ]
  },
  {
   "cell_type": "code",
   "execution_count": 10,
   "metadata": {
    "ExecuteTime": {
     "end_time": "2019-05-31T03:35:56.464277Z",
     "start_time": "2019-05-31T03:35:56.463277Z"
    },
    "colab": {},
    "colab_type": "code",
    "id": "6hQt-SCwf9as"
   },
   "outputs": [],
   "source": [
    "# Create assists constraint\n",
    "def assists(df,player_list,lp_prob,min_assist):\n",
    "    tot_assists=\"\"\n",
    "    formula=\"\"\n",
    "    for n,row in df.iterrows():\n",
    "        for i,player in enumerate(player_list):\n",
    "            if i==n:\n",
    "                formula=row[\"Assists\"]*player\n",
    "                tot_assists+=formula\n",
    "    lp_prob+=(tot_assists>=min_assist),\"Assists\"\n",
    "    return lp_prob\n"
   ]
  },
  {
   "cell_type": "code",
   "execution_count": 11,
   "metadata": {
    "ExecuteTime": {
     "end_time": "2019-05-31T03:35:57.503677Z",
     "start_time": "2019-05-31T03:35:57.501677Z"
    },
    "colab": {},
    "colab_type": "code",
    "id": "ZCbZMlS-f9ax"
   },
   "outputs": [],
   "source": [
    "# Create yellow cards constraint (Number of yellow cards received)\n",
    "def yellow_cards(df,player_list,lp_prob,max_yellow):\n",
    "    tot_yellow=\"\"\n",
    "    formula=\"\"\n",
    "    for n,row in df.iterrows():\n",
    "        for i,player in enumerate(player_list):\n",
    "            if i==n:\n",
    "                formula=row[\"Yellow_cards\"]*(1)*player\n",
    "                tot_yellow+=formula\n",
    "    lp_prob+=(tot_yellow<=max_yellow),\"Yellow_cards\"\n",
    "    return lp_prob\n"
   ]
  },
  {
   "cell_type": "code",
   "execution_count": 12,
   "metadata": {
    "ExecuteTime": {
     "end_time": "2019-05-31T03:35:59.351877Z",
     "start_time": "2019-05-31T03:35:59.335877Z"
    },
    "colab": {},
    "colab_type": "code",
    "id": "vIi-4AAsf9a0"
   },
   "outputs": [],
   "source": [
    "# Create goals scored constraint\n",
    "def goals_scored(df,player_list,lp_prob,min_goal):\n",
    "    tot_goals=\"\"\n",
    "    formula=\"\"\n",
    "    for n,row in df.iterrows():\n",
    "        for i,player in enumerate(player_list):\n",
    "            if i==n:\n",
    "                formula=row[\"Goals_scored\"]*player\n",
    "                tot_goals+=formula\n",
    "    lp_prob+=(tot_goals>=min_goal),\"Goals_scored\"\n",
    "    return lp_prob\n"
   ]
  },
  {
   "cell_type": "code",
   "execution_count": 13,
   "metadata": {
    "ExecuteTime": {
     "end_time": "2019-05-31T03:36:00.051077Z",
     "start_time": "2019-05-31T03:36:00.046077Z"
    },
    "colab": {},
    "colab_type": "code",
    "id": "rMSRUwfhf9a5"
   },
   "outputs": [],
   "source": [
    "# Create number of minutes played constraint\n",
    "def minutes(df,player_list,lp_prob,min_minute):\n",
    "    tot_minutes=\"\"\n",
    "    formula=\"\"\n",
    "    for n,row in df.iterrows():\n",
    "        for i,player in enumerate(player_list):\n",
    "            if i==n:\n",
    "                formula=row[\"Minutes\"]*player\n",
    "                tot_minutes+=formula\n",
    "    lp_prob+=(tot_minutes>=min_minute),\"Minutes Played\"\n",
    "    return lp_prob\n"
   ]
  },
  {
   "cell_type": "code",
   "execution_count": 14,
   "metadata": {
    "ExecuteTime": {
     "end_time": "2019-05-31T03:36:01.549277Z",
     "start_time": "2019-05-31T03:36:01.541277Z"
    },
    "colab": {},
    "colab_type": "code",
    "id": "IBNp3ys-f9a8"
   },
   "outputs": [],
   "source": [
    "def find_prob(df,cash,gkp,defd,mid,fwd,assist,yellow,goals,minute):\n",
    "    lp_prob=[]\n",
    "    lp_prob = pulp.LpProblem('FantasyTeam', pulp.LpMaximize)\n",
    "    player_list = player_variable(df)\n",
    "    \n",
    "    lp_prob = objective_func(df,player_list,lp_prob)\n",
    "    lp_prob = cash_constraint(df,player_list,lp_prob,cash)\n",
    "    lp_prob = positions(df,player_list,lp_prob,gkp,\"GKP\")\n",
    "    lp_prob = positions(df,player_list,lp_prob,defd,\"DEF\")\n",
    "    lp_prob = positions(df,player_list,lp_prob,mid,\"MID\")\n",
    "    lp_prob = positions(df,player_list,lp_prob,fwd,\"FWD\")\n",
    "    lp_prob = assists(df,player_list,lp_prob,assist)\n",
    "    lp_prob = yellow_cards(df,player_list,lp_prob,yellow)\n",
    "    lp_prob = goals_scored(df,player_list,lp_prob,goals)\n",
    "    lp_prob = minutes(df,player_list,lp_prob,minute)\n",
    "    \n",
    "    return lp_prob\n"
   ]
  },
  {
   "cell_type": "code",
   "execution_count": 25,
   "metadata": {
    "ExecuteTime": {
     "end_time": "2019-05-31T06:56:17.135101Z",
     "start_time": "2019-05-31T06:56:17.125101Z"
    },
    "colab": {},
    "colab_type": "code",
    "id": "K51Ck7QRf9a_"
   },
   "outputs": [],
   "source": [
    "def optimization(df, lp_prob):\n",
    "    lp_prob.writeLP('Group3_FF.lp')\n",
    "    \n",
    "    optimization_result = lp_prob.solve()\n",
    "    assert optimization_result == pulp.LpStatusOptimal\n",
    "    #return optimization_result\n"
   ]
  },
  {
   "cell_type": "code",
   "execution_count": 16,
   "metadata": {
    "ExecuteTime": {
     "end_time": "2019-05-31T03:36:14.108677Z",
     "start_time": "2019-05-31T03:36:14.102677Z"
    },
    "colab": {},
    "colab_type": "code",
    "id": "Ea899ttbf9bF"
   },
   "outputs": [],
   "source": [
    "def decision(df,lp_prob):\n",
    "    # append the variable x1,x2... and decison value 1,0 into dataframe\n",
    "    # the index of vals in ascending order, but columns of variables are not. \n",
    "    name,val,vals=[],[],[]\n",
    "    for v in lp_prob.variables():\n",
    "        name.append(v.name)\n",
    "        val.append(v.varValue)\n",
    "    vals=pd.DataFrame({'variable': name,'value': val}) \n",
    "    \n",
    "    # sort the value of column's variable in ascending order\n",
    "    for n, row in vals.iterrows():\n",
    "        value = re.findall(r'(\\d+)', row['variable'])\n",
    "        vals.loc[n, 'variable'] = int(value[0])\n",
    "\n",
    "    df_vals = vals.sort_index(by='variable')\n",
    "    \n",
    "    for n,row in df.iterrows():\n",
    "        for vals_n,vals_row in df_vals.iterrows():\n",
    "            if n==vals_row[\"variable\"]:\n",
    "                df.loc[n,'decision']=vals_row['value']\n",
    "    \n",
    "    return df\n"
   ]
  },
  {
   "cell_type": "code",
   "execution_count": 35,
   "metadata": {
    "ExecuteTime": {
     "end_time": "2019-05-31T07:15:47.657839Z",
     "start_time": "2019-05-31T07:15:47.622839Z"
    },
    "colab": {},
    "colab_type": "code",
    "id": "sKYV1iR0f9bI"
   },
   "outputs": [],
   "source": [
    "def diff_formation(df,cash,gkp,defd,mid,fwd,assist,yellow,goals,minute):\n",
    "    lp_prob=[]\n",
    "    lp_prob.clear()\n",
    "    lp_prob=find_prob(df,cash,gkp,defd,mid,fwd,assist,yellow,goals,minute)\n",
    "    optimization(df,lp_prob)\n",
    "    final=decision(df,lp_prob)\n",
    "    print(\"Total Cost: \",final[final['decision']==1.0].Cost.sum(),\"\\nTotal Points: \",final[final['decision']==1.0].Points.sum(),  \\\n",
    "          \"\\nTotal Goals: \",final[final['decision']==1.0].Goals_scored.sum(),\"\\nTotal Assists: \",final[final['decision']==1.0].Assists.sum(), \\\n",
    "         \"\\nTotal Yellow Cards: \",final[final['decision']==1.0].Yellow_cards.sum(),\"\\nTotal Minutes :\",final[final['decision']==1.0].Minutes.sum())\n",
    "    return(final[final['decision']==1.0],lp_prob)\n"
   ]
  },
  {
   "cell_type": "markdown",
   "metadata": {
    "colab_type": "text",
    "id": "agbRziq8mrYI"
   },
   "source": [
    "### Optimize the best team for Fantasy Premier League"
   ]
  },
  {
   "cell_type": "markdown",
   "metadata": {
    "colab_type": "text",
    "id": "XORqZZAZoBiD"
   },
   "source": [
    "**Scenario**"
   ]
  },
  {
   "cell_type": "markdown",
   "metadata": {
    "colab_type": "text",
    "id": "wMg9HNe7m4ta"
   },
   "source": [
    "Find the best team formation with budget within 1200. One team have 2 goalkeepers, 5 defenders, 5 midfielders and 3 forwards. For entire team, assists must be at least 90, obtained not more than 20 yellow cards, scored at least 150 goals and minutes of played must be at least 735 hours (44100 minutes)."
   ]
  },
  {
   "cell_type": "code",
   "execution_count": 26,
   "metadata": {
    "ExecuteTime": {
     "end_time": "2019-05-31T07:07:15.233934Z",
     "start_time": "2019-05-31T07:07:15.226434Z"
    }
   },
   "outputs": [],
   "source": [
    "import warnings\n",
    "warnings.filterwarnings('ignore')"
   ]
  },
  {
   "cell_type": "code",
   "execution_count": 36,
   "metadata": {
    "ExecuteTime": {
     "end_time": "2019-05-31T07:16:00.698294Z",
     "start_time": "2019-05-31T07:15:50.783324Z"
    },
    "colab": {},
    "colab_type": "code",
    "id": "RJDcfXFHf9bL"
   },
   "outputs": [
    {
     "name": "stdout",
     "output_type": "stream",
     "text": [
      "Total Cost:  1190 \n",
      "Total Points:  2577 \n",
      "Total Goals:  152 \n",
      "Total Assists:  92 \n",
      "Total Yellow Cards:  20 \n",
      "Total Minutes : 44186\n"
     ]
    }
   ],
   "source": [
    "final, lp_prob = diff_formation(df,1200,2,5,5,3,90,20,150,44100)"
   ]
  },
  {
   "cell_type": "markdown",
   "metadata": {
    "colab_type": "text",
    "id": "L5M7EytQxiLo"
   },
   "source": [
    "From the output, we can have one football team of following 15 players with 1190 cash. Total assists 92, just obtained 20 yellow cards and scored 152 goals. Total minutes played for entire team is 44186 minutes."
   ]
  },
  {
   "cell_type": "code",
   "execution_count": 37,
   "metadata": {
    "ExecuteTime": {
     "end_time": "2019-05-31T07:26:38.607103Z",
     "start_time": "2019-05-31T07:26:38.579603Z"
    },
    "colab": {},
    "colab_type": "code",
    "id": "MUNrvsZCf9bR"
   },
   "outputs": [],
   "source": [
    "#extract out the players name and with details that we use\n",
    "select=['Name', 'Team', 'Position', 'Cost','Assists','Goals_scored', 'Yellow_cards','Minutes', 'Points']\n",
    "final[select].to_csv('players_output.csv',index=False, sep=',')"
   ]
  }
 ],
 "metadata": {
  "colab": {
   "name": "Fantansy football_v3.ipynb",
   "provenance": [],
   "toc_visible": true,
   "version": "0.3.2"
  },
  "kernelspec": {
   "display_name": "Python 3",
   "language": "python",
   "name": "python3"
  },
  "language_info": {
   "codemirror_mode": {
    "name": "ipython",
    "version": 3
   },
   "file_extension": ".py",
   "mimetype": "text/x-python",
   "name": "python",
   "nbconvert_exporter": "python",
   "pygments_lexer": "ipython3",
   "version": "3.5.5"
  },
  "toc": {
   "base_numbering": 1,
   "nav_menu": {},
   "number_sections": true,
   "sideBar": false,
   "skip_h1_title": false,
   "title_cell": "Table of Contents",
   "title_sidebar": "Contents",
   "toc_cell": false,
   "toc_position": {},
   "toc_section_display": true,
   "toc_window_display": false
  },
  "varInspector": {
   "cols": {
    "lenName": 16,
    "lenType": 16,
    "lenVar": 40
   },
   "kernels_config": {
    "python": {
     "delete_cmd_postfix": "",
     "delete_cmd_prefix": "del ",
     "library": "var_list.py",
     "varRefreshCmd": "print(var_dic_list())"
    },
    "r": {
     "delete_cmd_postfix": ") ",
     "delete_cmd_prefix": "rm(",
     "library": "var_list.r",
     "varRefreshCmd": "cat(var_dic_list()) "
    }
   },
   "types_to_exclude": [
    "module",
    "function",
    "builtin_function_or_method",
    "instance",
    "_Feature"
   ],
   "window_display": false
  }
 },
 "nbformat": 4,
 "nbformat_minor": 1
}
